{
 "cells": [
  {
   "cell_type": "code",
   "execution_count": 19,
   "metadata": {
    "collapsed": true
   },
   "outputs": [],
   "source": [
    "import sys\n",
    "import gzip\n",
    "import time\n",
    "import random\n",
    "import argparse\n",
    "import numpy as np\n",
    "\n",
    "import torch\n",
    "from torch import nn\n",
    "from torch import autograd\n",
    "from torch import optim\n",
    "from torch.autograd import Variable\n",
    "import torch.nn.functional as f"
   ]
  },
  {
   "cell_type": "code",
   "execution_count": 22,
   "metadata": {
    "collapsed": false
   },
   "outputs": [
    {
     "name": "stdout",
     "output_type": "stream",
     "text": [
      "The autoreload extension is already loaded. To reload it, use:\n",
      "  %reload_ext autoreload\n"
     ]
    }
   ],
   "source": [
    "sys.path.append('..')\n",
    "%load_ext autoreload\n",
    "%autoreload 2\n",
    "from misc import *\n",
    "from model import *"
   ]
  },
  {
   "cell_type": "code",
   "execution_count": 25,
   "metadata": {
    "collapsed": false
   },
   "outputs": [],
   "source": [
    "args = {'average':1, 'batch_size':16, 'embeddings': '../../data/askubuntu/vector/vectors_pruned.200.txt.gz',\\\n",
    "       'corpus': '../../data/askubuntu/text_tokenized.txt.gz', 'train':'../../data/askubuntu/train_random.txt',\\\n",
    "       'test': '../../data/askubuntu/test.txt', 'dev': '../../data/askubuntu/dev.txt', 'hidden_dim':100,\\\n",
    "       'embed_dim': 200, 'learning_rate': 0.001, 'l2_reg':1e-5, 'depth':1, 'dropout': 0.0, 'max_epoch':20,\\\n",
    "       'max_seq_len': 100, 'margin':0.3, 'reweight':0, 'layer':'lstm', 'kernel_size':3, 'save_model':0}"
   ]
  },
  {
   "cell_type": "code",
   "execution_count": 41,
   "metadata": {
    "collapsed": false
   },
   "outputs": [
    {
     "name": "stdout",
     "output_type": "stream",
     "text": [
      "Namespace(activation='tanh', average=1, batch_size=16, corpus='../../data/askubuntu/text_tokenized.txt.gz', cuda=0, cut_off=2, depth=1, dev='../../data/askubuntu/dev.txt', dropout=0.0, embed_dim=200, embeddings='../../data/askubuntu/vector/vectors_pruned.200.txt.gz', hidden_dim=100, kernel_size=3, l2_reg=0.0, layer='lstm', learning_rate=0.001, margin=0.3, max_epoch=20, max_seq_len=100, normalize=1, optimizer='adam', reweight=0, save_model=0, test='../../data/askubuntu/test.txt', train='../../data/askubuntu/train_random.txt', verbose=0)\n",
      "\n"
     ]
    }
   ],
   "source": [
    "argparser = argparse.ArgumentParser()\n",
    "#parser.parse_args(['--help'])\n",
    "argparser.add_argument(\"--average\", type = int, default = 1)\n",
    "argparser.add_argument(\"--batch_size\", type = int, default = 40)\n",
    "argparser.add_argument(\"--embeddings\", type = str, default = \"\")\n",
    "argparser.add_argument(\"--corpus\", type = str)\n",
    "argparser.add_argument(\"--train\", type = str, default = \"\")\n",
    "argparser.add_argument(\"--test\", type = str, default = \"\")\n",
    "argparser.add_argument(\"--dev\", type = str, default = \"\")\n",
    "argparser.add_argument(\"--hidden_dim\", \"-d\", type = int, default = 200)\n",
    "argparser.add_argument(\"--embed_dim\", \"-e\", type = int, default = 200)\n",
    "argparser.add_argument(\"--optimizer\", type = str, default = \"adam\")\n",
    "argparser.add_argument(\"--learning_rate\", \"-lr\", type = float, default = 0.001)\n",
    "argparser.add_argument(\"--l2_reg\", type = float, default = 1e-5)\n",
    "argparser.add_argument(\"--activation\", \"-act\", type = str, default = \"tanh\")\n",
    "argparser.add_argument(\"--depth\", type = int, default = 1)\n",
    "argparser.add_argument(\"--dropout\", type = float, default = 0.0)\n",
    "argparser.add_argument(\"--max_epoch\", type = int, default = 20)\n",
    "argparser.add_argument(\"--max_seq_len\", type = int, default = 100)\n",
    "argparser.add_argument(\"--normalize\", type = int, default = 1)\n",
    "argparser.add_argument(\"--margin\", type = float, default = 0.3)\n",
    "argparser.add_argument(\"--reweight\", type = int, default = 0)\n",
    "argparser.add_argument(\"--verbose\", type = int, default = 0)\n",
    "argparser.add_argument(\"--cut_off\", type = int, default = 2) # original code default 1\n",
    "argparser.add_argument(\"--layer\", type = str, default = \"lstm\")\n",
    "argparser.add_argument(\"--kernel_size\", type = int, default = 3)\n",
    "argparser.add_argument(\"--save_model\", type = int, default = 0)\n",
    "argparser.add_argument(\"--cuda\", type = int, default = 0)\n",
    "args = argparser.parse_args('--layer lstm --corpus ../../data/askubuntu/text_tokenized.txt.gz --embeddings ../../data/askubuntu/vector/vectors_pruned.200.txt.gz --train ../../data/askubuntu/train_random.txt --dev ../../data/askubuntu/dev.txt --test ../../data/askubuntu/test.txt --l2_reg 0 -d 100 --batch_size 16 -lr 0.001'.split())\n",
    "print args\n",
    "print \"\"\n",
    "#main(args)"
   ]
  },
  {
   "cell_type": "code",
   "execution_count": 35,
   "metadata": {
    "collapsed": false
   },
   "outputs": [
    {
     "name": "stdout",
     "output_type": "stream",
     "text": [
      "0 empty titles ignored.\n",
      "100406 pre-trained embeddings loaded.\n"
     ]
    }
   ],
   "source": [
    "raw_corpus = read_corpus(args.corpus)\n",
    "#print 'type of raw_corpus', type(raw_corpus), '\\n', raw_corpus.keys()[1]#, '\\n', raw_corpus.values()[1]\n",
    "\n",
    "# # create embedding layer\n",
    "#embeddings = 'askubuntu/vector/vectors_pruned.200.txt.gz'\n",
    "embedding_layer = create_embedding_layer(\n",
    "            raw_corpus,\n",
    "            n_d = args.embed_dim,#200,\n",
    "            cut_off = 2,\n",
    "            embs = load_embedding_iterator(args.embeddings) if args.embeddings else None\n",
    "        )"
   ]
  },
  {
   "cell_type": "code",
   "execution_count": 36,
   "metadata": {
    "collapsed": false
   },
   "outputs": [
    {
     "name": "stdout",
     "output_type": "stream",
     "text": [
      "vocab size=100408, corpus size=167765\n"
     ]
    }
   ],
   "source": [
    "ids_corpus = map_corpus(raw_corpus, embedding_layer, max_len = args.max_seq_len)\n",
    "#ids_corpus['378466']\n",
    "\n",
    "say(\"vocab size={}, corpus size={}\\n\".format(embedding_layer.n_V,len(raw_corpus)))\n",
    "# because there are some out-of-vocabulary words.\n",
    "\n",
    "padding_id = embedding_layer.vocab_map[\"<padding>\"]\n",
    "#print 'padding_id', padding_id"
   ]
  },
  {
   "cell_type": "code",
   "execution_count": 37,
   "metadata": {
    "collapsed": true
   },
   "outputs": [],
   "source": [
    "if args.reweight:\n",
    "    print 'add weights to the model'\n",
    "    weights = create_idf_weights(args.corpus, embedding_layer)\n",
    "\n",
    "if args.dev:\n",
    "    dev = read_annotations(args.dev, K_neg=-1, prune_pos_cnt=-1)\n",
    "    dev_batches = create_eval_batches(ids_corpus, dev, padding_id, pad_left = not args.average)\n",
    "if args.test:\n",
    "    test = read_annotations(args.test, K_neg=-1, prune_pos_cnt=-1)\n",
    "    test_batches = create_eval_batches(ids_corpus, test, padding_id, pad_left = not args.average)"
   ]
  },
  {
   "cell_type": "code",
   "execution_count": 44,
   "metadata": {
    "collapsed": false
   },
   "outputs": [
    {
     "name": "stdout",
     "output_type": "stream",
     "text": [
      "create batches\n",
      "4 batches, 140386 tokens in total, 1386 triples in total\n",
      "current model is LSTM\n",
      "<class 'torch.nn.parameter.Parameter'> torch.Size([400, 200]) 80000\n",
      "<class 'torch.nn.parameter.Parameter'> torch.Size([400, 100]) 40000\n",
      "<class 'torch.nn.parameter.Parameter'> torch.Size([400]) 400\n",
      "<class 'torch.nn.parameter.Parameter'> torch.Size([400]) 400\n",
      "num of parameters: 120800\n",
      "create_eval_batches if length greater than a threshold 1501\n"
     ]
    }
   ],
   "source": [
    "# # Create training batches\n",
    "train = read_annotations(args.train)\n",
    "#batch_size = 16\n",
    "train_batches = create_batches(ids_corpus, train[:50], args.batch_size, padding_id, pad_left = not args.average)\n",
    "#print 'train_batch[0][0]', len(train_batches[0][0]), len(train_batches[0][1]), len(train_batches[0][2])\n",
    "say(\"create batches\\n\")\n",
    "say(\"{} batches, {} tokens in total, {} triples in total\\n\".format(\n",
    "        len(train_batches),\n",
    "        sum(len(x[0].ravel())+len(x[1].ravel()) for x in train_batches),\n",
    "        sum(len(x[2].ravel()) for x in train_batches)\n",
    "    ))\n",
    "\n",
    "#train_batches = None\n",
    "\n",
    "# initialize the model\n",
    "model = Model(args, weights=weights if args.reweight else None)\n",
    "optimizer = optim.Adam(model.parameters(), lr=args.learning_rate)\n",
    "\n",
    "# get the number of parameters of the model\n",
    "num_params = 0\n",
    "for layer in model.parameters():\n",
    "    print type(layer), layer.data.shape, len(layer.data.numpy().ravel())\n",
    "    num_params += len(layer.data.numpy().ravel())\n",
    "say(\"num of parameters: {}\\n\".format(num_params))\n",
    "\n",
    "if args.cuda:\n",
    "    model.cuda()\n",
    "\n",
    "train_eval = read_annotations(args.train, K_neg=-1, prune_pos_cnt=-1)\n",
    "train_eval = create_eval_batches(ids_corpus, train_eval, padding_id, pad_left = not args.average)"
   ]
  },
  {
   "cell_type": "code",
   "execution_count": null,
   "metadata": {
    "collapsed": true
   },
   "outputs": [],
   "source": [
    "for i in range(args.max_epoch):\n",
    "    start_time = time.time()\n",
    "\n",
    "    #train = read_annotations('askubuntu/train_random.txt')\n",
    "    train_batches = create_batches(ids_corpus, train, args.batch_size,\n",
    "                                padding_id, pad_left = not args.average)\n",
    "\n",
    "    N =len(train_batches)\n",
    "    print \"num of batches\", N\n",
    "    #avrg_loss = 0\n",
    "    #avrg_cost = 0\n",
    "    for j in xrange(N):\n",
    "        # get current batch\n",
    "        idts, idbs, idps = train_batches[j]\n",
    "        optimizer.zero_grad()\n",
    "\n",
    "        if args.layer == 'lstm':\n",
    "            model.hidden_t = model.init_hidden(idts.shape[1])\n",
    "            model.hidden_b = model.init_hidden(idbs.shape[1])\n",
    "\n",
    "        # embedding layer\n",
    "        xt = embedding_layer.forward(idts.ravel()) # flatten\n",
    "        xt = xt.reshape((idts.shape[0], idts.shape[1], args.embed_dim))\n",
    "        xt = Variable(torch.from_numpy(xt).float())\n",
    "\n",
    "        xb = embedding_layer.forward(idbs.ravel())\n",
    "        xb = xb.reshape((idbs.shape[0], idbs.shape[1], args.embed_dim))\n",
    "        xb = Variable(torch.from_numpy(xb).float())\n",
    "\n",
    "        # build mask\n",
    "        mt = np.not_equal(idts, padding_id).astype('float')\n",
    "        mt = Variable(torch.from_numpy(mt).float().view(idts.shape[0], idts.shape[1], 1))\n",
    "\n",
    "        mb = np.not_equal(idbs, padding_id).astype('float')\n",
    "        mb = Variable(torch.from_numpy(mb).float().view(idbs.shape[0], idbs.shape[1], 1))\n",
    "\n",
    "        # back prop\n",
    "        h_final = model(xt.cuda(), xb.cuda(), mt.cuda(), mb.cuda())       # lstm output\n",
    "        idps = Variable(torch.from_numpy(idps).long())\n",
    "\n",
    "        loss, cost, prct = customized_loss(args, h_final, idps.cuda(), model)\n",
    "        cost.backward()                              # backpropagation, compute gradients\n",
    "        optimizer.step()"
   ]
  }
 ],
 "metadata": {
  "kernelspec": {
   "display_name": "Python [Root]",
   "language": "python",
   "name": "Python [Root]"
  },
  "language_info": {
   "codemirror_mode": {
    "name": "ipython",
    "version": 2
   },
   "file_extension": ".py",
   "mimetype": "text/x-python",
   "name": "python",
   "nbconvert_exporter": "python",
   "pygments_lexer": "ipython2",
   "version": "2.7.12"
  }
 },
 "nbformat": 4,
 "nbformat_minor": 0
}
